{
 "cells": [
  {
   "cell_type": "code",
   "execution_count": 5,
   "metadata": {},
   "outputs": [],
   "source": [
    "from ase.io import read\n",
    "from gpaw import GPAW, PW, FermiDirac\n",
    "import os\n",
    "import pymatgen as p\n",
    "from pymatgen.io import ase\n",
    "import re\n",
    "import numpy as np\n",
    "from ase.parallel import parprint\n",
    "from pymatgen.io.cif import CifParser"
   ]
  },
  {
   "cell_type": "code",
   "execution_count": 6,
   "metadata": {},
   "outputs": [],
   "source": [
    "def get_ase(fname):\n",
    "    parser = CifParser(fname)\n",
    "    lco = parser.get_structures()[0]\n",
    "    return ase.AseAtomsAdaptor().get_atoms(lco)"
   ]
  },
  {
   "cell_type": "code",
   "execution_count": 10,
   "metadata": {},
   "outputs": [],
   "source": [
    "licoo2=get_ase(\"small.cif\")"
   ]
  },
  {
   "cell_type": "code",
   "execution_count": 11,
   "metadata": {},
   "outputs": [],
   "source": [
    "G, K, M = np.array([[0, 0, 0],\n",
    "                    [1 / 3, 1 / 3, 0],\n",
    "                    [0.5, 0, 0]])\n",
    "bp = lco.cell.bandpath([M, K, G, -K, -M], npoints=1000)"
   ]
  },
  {
   "cell_type": "code",
   "execution_count": 15,
   "metadata": {},
   "outputs": [
    {
     "ename": "ImportError",
     "evalue": "cannot import name 'DielectricFunction1' from 'gpaw.response.df' (/Users/santy/.local/lib/python3.7/site-packages/gpaw/response/df.py)",
     "output_type": "error",
     "traceback": [
      "\u001b[0;31m---------------------------------------------------------------------------\u001b[0m",
      "\u001b[0;31mImportError\u001b[0m                               Traceback (most recent call last)",
      "\u001b[0;32m<ipython-input-15-bc0a7eef63bb>\u001b[0m in \u001b[0;36m<module>\u001b[0;34m\u001b[0m\n\u001b[0;32m----> 1\u001b[0;31m \u001b[0;32mfrom\u001b[0m \u001b[0mgpaw\u001b[0m\u001b[0;34m.\u001b[0m\u001b[0mresponse\u001b[0m\u001b[0;34m.\u001b[0m\u001b[0mdf\u001b[0m \u001b[0;32mimport\u001b[0m \u001b[0mDielectricFunction1\u001b[0m\u001b[0;34m\u001b[0m\u001b[0;34m\u001b[0m\u001b[0m\n\u001b[0m",
      "\u001b[0;31mImportError\u001b[0m: cannot import name 'DielectricFunction1' from 'gpaw.response.df' (/Users/santy/.local/lib/python3.7/site-packages/gpaw/response/df.py)"
     ]
    }
   ],
   "source": [
    "from gpaw.response.df import DielectricFunction1"
   ]
  },
  {
   "cell_type": "code",
   "execution_count": null,
   "metadata": {},
   "outputs": [],
   "source": []
  }
 ],
 "metadata": {
  "kernelspec": {
   "display_name": "Python 3",
   "language": "python",
   "name": "python3"
  },
  "language_info": {
   "codemirror_mode": {
    "name": "ipython",
    "version": 3
   },
   "file_extension": ".py",
   "mimetype": "text/x-python",
   "name": "python",
   "nbconvert_exporter": "python",
   "pygments_lexer": "ipython3",
   "version": "3.7.7"
  }
 },
 "nbformat": 4,
 "nbformat_minor": 4
}
