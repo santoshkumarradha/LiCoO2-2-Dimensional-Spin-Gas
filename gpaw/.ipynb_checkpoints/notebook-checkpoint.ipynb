{
 "cells": [
  {
   "cell_type": "code",
   "execution_count": 26,
   "metadata": {},
   "outputs": [],
   "source": [
    "from ase.io import read\n",
    "from ase.dft.kpoints import BandPath\n",
    "from gpaw import GPAW\n",
    "from gpaw import restart"
   ]
  },
  {
   "cell_type": "code",
   "execution_count": 3,
   "metadata": {},
   "outputs": [],
   "source": [
    "licoo2=read(\"small.cif\")"
   ]
  },
  {
   "cell_type": "code",
   "execution_count": 28,
   "metadata": {},
   "outputs": [],
   "source": [
    "calc = GPAW('licoo2_gs.gpw', txt=None)"
   ]
  },
  {
   "cell_type": "code",
   "execution_count": 32,
   "metadata": {
    "tags": []
   },
   "outputs": [
    {
     "output_type": "stream",
     "name": "stdout",
     "text": "[-13.09728877 -11.55517727   0.05291514   1.39030803   1.75596323\n   3.62051393   4.19443804   4.68481727   5.82111286   6.00211762\n   6.57201721   8.36445465   8.64256126  12.90686765  15.27541545\n  19.51808114  21.5973886   22.39723     24.01454753  26.6447755\n  26.7252573   27.45623605  28.94769328  30.34261298  32.16161992\n  32.79855652] 7.514677215606994\n"
    }
   ],
   "source": [
    "print(calc.get_eigenvalues(),calc.get_fermi_level())"
   ]
  },
  {
   "cell_type": "code",
   "execution_count": 48,
   "metadata": {},
   "outputs": [
    {
     "output_type": "execute_result",
     "data": {
      "text/plain": "(30, 30, 30)"
     },
     "metadata": {},
     "execution_count": 48
    }
   ],
   "source": [
    "wfs=calc.wfs\n",
    "wfs.get_wave_function_array(2,2,0).shape"
   ]
  },
  {
   "cell_type": "code",
   "execution_count": 51,
   "metadata": {},
   "outputs": [],
   "source": [
    "Nk=len(calc.get_ibz_k_points())"
   ]
  },
  {
   "cell_type": "code",
   "execution_count": null,
   "metadata": {},
   "outputs": [],
   "source": []
  }
 ],
 "metadata": {
  "language_info": {
   "codemirror_mode": {
    "name": "ipython",
    "version": 3
   },
   "file_extension": ".py",
   "mimetype": "text/x-python",
   "name": "python",
   "nbconvert_exporter": "python",
   "pygments_lexer": "ipython3",
   "version": "3.7.7-final"
  },
  "orig_nbformat": 2,
  "kernelspec": {
   "name": "python3",
   "display_name": "Python 3"
  }
 },
 "nbformat": 4,
 "nbformat_minor": 2
}